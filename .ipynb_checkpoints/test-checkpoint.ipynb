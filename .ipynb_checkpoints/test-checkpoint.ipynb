{
 "cells": [
  {
   "cell_type": "code",
   "execution_count": 1,
   "metadata": {},
   "outputs": [],
   "source": [
    "import os, cv2\n",
    "import dlib\n",
    "import imutils\n",
    "import argparse\n",
    "\n",
    "import numpy as np\n",
    "\n",
    "from imutils import face_utils\n",
    "from _utils import *\n",
    "\n",
    "\n"
   ]
  },
  {
   "cell_type": "code",
   "execution_count": 2,
   "metadata": {},
   "outputs": [
    {
     "name": "stdout",
     "output_type": "stream",
     "text": [
      "_image/Sad.bmp\n",
      "True\n",
      "_image/Normal.png\n",
      "True\n",
      "_image/Sleep.bmp\n",
      "True\n",
      "_image/Love.bmp\n",
      "True\n"
     ]
    }
   ],
   "source": [
    "static = glob.glob(os.path.join(\"_image\",\"*\"))\n",
    "\n",
    "\n",
    "img = []\n",
    "for s in static:\n",
    "    print(s)\n",
    "    print(os.path.exists(s))\n",
    "    im = cv2.imread(s).resize([720,1280])\n",
    "    \n",
    "    im = im[300:500, 200:1000]\n"
   ]
  },
  {
   "cell_type": "code",
   "execution_count": null,
   "metadata": {},
   "outputs": [],
   "source": []
  }
 ],
 "metadata": {
  "kernelspec": {
   "display_name": "Python 3",
   "language": "python",
   "name": "python3"
  },
  "language_info": {
   "codemirror_mode": {
    "name": "ipython",
    "version": 3
   },
   "file_extension": ".py",
   "mimetype": "text/x-python",
   "name": "python",
   "nbconvert_exporter": "python",
   "pygments_lexer": "ipython3",
   "version": "3.6.10"
  }
 },
 "nbformat": 4,
 "nbformat_minor": 4
}
