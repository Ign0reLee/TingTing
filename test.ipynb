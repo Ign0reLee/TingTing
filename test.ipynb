{
 "cells": [
  {
   "cell_type": "code",
   "execution_count": 1,
   "metadata": {},
   "outputs": [],
   "source": [
    "import os, cv2\n",
    "import matplotlib.pyplot as plt\n"
   ]
  },
  {
   "cell_type": "code",
   "execution_count": 4,
   "metadata": {},
   "outputs": [],
   "source": [
    "static = [ \"Normal.png\", \"Sad.bmp\", \"Love.bmp\", \"Sleep.bmp\"]\n",
    "#static=['Normal.png']\n",
    "path = os.path.join(\"_image\")\n",
    "\n",
    "img = []\n",
    "for s in static:\n",
    "    im = cv2.imread(os.path.join(path, s))\n",
    "    im = cv2.resize(im, (1280,720))\n",
    "    \n",
    "    sim = im[200:500, 100:1200]\n",
    "    cv2.imwrite(s.replace(\"bmp\",\"png\"), sim)\n",
    "    img.append(im)\n"
   ]
  },
  {
   "cell_type": "code",
   "execution_count": null,
   "metadata": {
    "scrolled": false
   },
   "outputs": [],
   "source": [
    "cv2."
   ]
  },
  {
   "cell_type": "code",
   "execution_count": null,
   "metadata": {},
   "outputs": [],
   "source": [
    "plt.imshow(img[3][200:500, 100:1200])"
   ]
  }
 ],
 "metadata": {
  "kernelspec": {
   "display_name": "Python 3",
   "language": "python",
   "name": "python3"
  },
  "language_info": {
   "codemirror_mode": {
    "name": "ipython",
    "version": 3
   },
   "file_extension": ".py",
   "mimetype": "text/x-python",
   "name": "python",
   "nbconvert_exporter": "python",
   "pygments_lexer": "ipython3",
   "version": "3.6.10"
  }
 },
 "nbformat": 4,
 "nbformat_minor": 4
}
